{
 "cells": [
  {
   "cell_type": "markdown",
   "metadata": {},
   "source": [
    "# Modelagem de tópicos com CTM/ETM/LDA no *Reddit* em português"
   ]
  },
  {
   "cell_type": "markdown",
   "metadata": {},
   "source": [
    "Os testes a seguir foram realizados com o *corpus* em português de submissões do *Reddit* relacionadas à depressão. Deve-se salientar que apenas a remoção de termos com número pequeno de ocorrências e a tokenização foram aplicadas como etapas de pré-processamento do *dataset*. Para o treinamento ETM, o embedding Word2Vec utilizado foi criado usando a API de Word2Vec disponibilizada pelo próprio gensim.\n",
    "\n",
    "Além disso, para remoção de termos baseado em número de ocorrências, foram usados os valores de min_df = 0.05 e de max_df = 0.75 nos vetorizadores de texto utilizados no pré-processamento do referido *corpus*. Com tais valores, o conjunto de termos no *corpus* foi reduzido significativamente."
   ]
  },
  {
   "cell_type": "markdown",
   "metadata": {},
   "source": [
    "### Importações e configurações de ambiente"
   ]
  },
  {
   "cell_type": "code",
   "execution_count": 19,
   "metadata": {},
   "outputs": [
    {
     "name": "stdout",
     "output_type": "stream",
     "text": [
      "The autoreload extension is already loaded. To reload it, use:\n",
      "  %reload_ext autoreload\n"
     ]
    }
   ],
   "source": [
    "%load_ext autoreload\n",
    "%autoreload 2\n",
    "\n",
    "from utils.plots import plot_wordcloud, plot_graph, plot_wordcloud_by_word_probability, plot_pie_chart\n",
    "import sys, time, json, os, joblib, numpy as np, pandas as pd, ast\n",
    "pd.options.display.max_colwidth = 100\n",
    "from utils.notebook import create_dataframe_from_topics, get_topic_word_probability_pairs\n",
    "import pyLDAvis\n",
    "import pyLDAvis.sklearn\n",
    "\n",
    "import matplotlib.pyplot as plt\n",
    "plt.rcParams['figure.figsize'] = [8, 8]\n",
    "\n",
    "pyLDAvis.enable_notebook()\n",
    "\n",
    "WORKDIR = os.getcwd()\n",
    "MODELS_PATH = f'{WORKDIR}/models'\n",
    "CSVS_PATH = f'{WORKDIR}/csvs/'\n",
    "RESOURCES_PATH = f'{WORKDIR}/resources/'\n",
    "CTM_MODELS_PATH = f'{MODELS_PATH}/ctm/'\n",
    "ETM_MODELS_PATH = f'{MODELS_PATH}/etm/'\n",
    "LDA_MODELS_PATH = f'{MODELS_PATH}/lda/'"
   ]
  },
  {
   "cell_type": "markdown",
   "metadata": {},
   "source": [
    "### Resultados do treinamento CTM"
   ]
  },
  {
   "cell_type": "code",
   "execution_count": 20,
   "metadata": {},
   "outputs": [],
   "source": [
    "ctm_results = pd.read_csv(CSVS_PATH + \"ctm_combined_results.csv\")"
   ]
  },
  {
   "cell_type": "code",
   "execution_count": 21,
   "metadata": {},
   "outputs": [
    {
     "data": {
      "text/html": [
       "<div>\n",
       "<style scoped>\n",
       "    .dataframe tbody tr th:only-of-type {\n",
       "        vertical-align: middle;\n",
       "    }\n",
       "\n",
       "    .dataframe tbody tr th {\n",
       "        vertical-align: top;\n",
       "    }\n",
       "\n",
       "    .dataframe thead th {\n",
       "        text-align: right;\n",
       "    }\n",
       "</style>\n",
       "<table border=\"1\" class=\"dataframe\">\n",
       "  <thead>\n",
       "    <tr style=\"text-align: right;\">\n",
       "      <th></th>\n",
       "      <th>Unnamed: 0</th>\n",
       "      <th>k</th>\n",
       "      <th>model</th>\n",
       "      <th>c_v</th>\n",
       "      <th>u_mass</th>\n",
       "      <th>c_uci</th>\n",
       "      <th>c_npmi</th>\n",
       "      <th>diversity</th>\n",
       "      <th>path</th>\n",
       "    </tr>\n",
       "  </thead>\n",
       "  <tbody>\n",
       "    <tr>\n",
       "      <th>0</th>\n",
       "      <td>0</td>\n",
       "      <td>5.0</td>\n",
       "      <td>ctm_k5_combined</td>\n",
       "      <td>0.338887</td>\n",
       "      <td>-2.109887</td>\n",
       "      <td>-1.17098</td>\n",
       "      <td>-0.039418</td>\n",
       "      <td>0.53</td>\n",
       "      <td>training_outputs/models/ctm/ctm_k5_combined</td>\n",
       "    </tr>\n",
       "  </tbody>\n",
       "</table>\n",
       "</div>"
      ],
      "text/plain": [
       "   Unnamed: 0    k            model       c_v    u_mass    c_uci    c_npmi  \\\n",
       "0           0  5.0  ctm_k5_combined  0.338887 -2.109887 -1.17098 -0.039418   \n",
       "\n",
       "   diversity                                         path  \n",
       "0       0.53  training_outputs/models/ctm/ctm_k5_combined  "
      ]
     },
     "execution_count": 21,
     "metadata": {},
     "output_type": "execute_result"
    }
   ],
   "source": [
    "results_by_coherence = ctm_results.sort_values([\"c_npmi\"], ascending=(False))\n",
    "results_by_coherence.head()"
   ]
  },
  {
   "cell_type": "code",
   "execution_count": 22,
   "metadata": {},
   "outputs": [],
   "source": [
    "ctm1 = joblib.load(CTM_MODELS_PATH + \"ctm_k5_combined\")"
   ]
  },
  {
   "cell_type": "markdown",
   "metadata": {},
   "source": [
    "Tópicos encontrados pelo modelo CTM melhor ranqueado:"
   ]
  },
  {
   "cell_type": "code",
   "execution_count": 23,
   "metadata": {},
   "outputs": [
    {
     "name": "stdout",
     "output_type": "stream",
     "text": [
      "Topico 0: prazer pessoal foder video tardar curso energia respeitar aguentar ultimar certeza estudo sortir contrariar redor usar vaziar livro alar noite\n",
      "\n",
      "Topico 1: vidar casar pessoa coisa filho familia epoca mundo mulher historiar filhar irma homem tempo cidade gente estar trabalhar lugar irmao\n",
      "\n",
      "Topico 2: pessoa tempo coisa amigo sentimento amizade garoto amigar relacao converso mensagem gente namorar relacionamento final problema vezar lado frente sentir\n",
      "\n",
      "Topico 3: empregar estagiar faculdade cursar situacao crise area salariar dinheiro problema semana trabalhar empresar ansiedade curso tratamento aula contar casar provar\n",
      "\n",
      "Topico 4: ultimar curso foder video prazer tardar respeitar variar contrariar estudo conheco pessoal alar livro aguentar sortir encontrar menino usar redor\n",
      "\n"
     ]
    }
   ],
   "source": [
    "for idx, topic in enumerate(ctm1[\"topics\"]):\n",
    "    print(f'Topico {idx}: {\" \".join(topic)}\\n')"
   ]
  },
  {
   "cell_type": "markdown",
   "metadata": {},
   "source": [
    "Tópico 0: <br>\n",
    "1: emprego / trabalho<br>\n",
    "2: <br>\n",
    "3: <br>\n",
    "4: <br>\n",
    "5: <br>\n",
    "6: <br>\n",
    "7: <br>\n",
    "8: <br>\n",
    "9: <br>\n",
    "10: rotina na quarentena<br>\n",
    "11: política<br>\n",
    "12: <br>\n",
    "13: doença mental<br>\n",
    "14: ruminação<br>\n",
    "15: ruminação<br>\n",
    "16: <br>\n",
    "17: abuso infantil<br>\n",
    "18: <br>\n",
    "19: diagnóstico / tratamento<br>\n",
    "20: ruminação / pensamentos negativos<br>\n",
    "21: relacionamento<br>\n",
    "22: <br>\n",
    "23: <br>\n",
    "24: relacionamento / amizade<br>\n",
    "25: <br>\n",
    "26: <br>\n",
    "27: estudos<br>"
   ]
  },
  {
   "cell_type": "markdown",
   "metadata": {},
   "source": [
    "### Resultados de treinamento ETM"
   ]
  },
  {
   "cell_type": "code",
   "execution_count": 24,
   "metadata": {},
   "outputs": [
    {
     "data": {
      "text/html": [
       "<div>\n",
       "<style scoped>\n",
       "    .dataframe tbody tr th:only-of-type {\n",
       "        vertical-align: middle;\n",
       "    }\n",
       "\n",
       "    .dataframe tbody tr th {\n",
       "        vertical-align: top;\n",
       "    }\n",
       "\n",
       "    .dataframe thead th {\n",
       "        text-align: right;\n",
       "    }\n",
       "</style>\n",
       "<table border=\"1\" class=\"dataframe\">\n",
       "  <thead>\n",
       "    <tr style=\"text-align: right;\">\n",
       "      <th></th>\n",
       "      <th>Unnamed: 0</th>\n",
       "      <th>k</th>\n",
       "      <th>model</th>\n",
       "      <th>c_v</th>\n",
       "      <th>u_mass</th>\n",
       "      <th>c_uci</th>\n",
       "      <th>c_npmi</th>\n",
       "      <th>diversity</th>\n",
       "      <th>path</th>\n",
       "    </tr>\n",
       "  </thead>\n",
       "  <tbody>\n",
       "    <tr>\n",
       "      <th>0</th>\n",
       "      <td>0</td>\n",
       "      <td>5.0</td>\n",
       "      <td>etm_k5</td>\n",
       "      <td>0.424796</td>\n",
       "      <td>-1.556681</td>\n",
       "      <td>0.00329</td>\n",
       "      <td>0.000643</td>\n",
       "      <td>0.55</td>\n",
       "      <td>training_outputs/models/etm/etm_k5</td>\n",
       "    </tr>\n",
       "  </tbody>\n",
       "</table>\n",
       "</div>"
      ],
      "text/plain": [
       "   Unnamed: 0    k   model       c_v    u_mass    c_uci    c_npmi  diversity  \\\n",
       "0           0  5.0  etm_k5  0.424796 -1.556681  0.00329  0.000643       0.55   \n",
       "\n",
       "                                 path  \n",
       "0  training_outputs/models/etm/etm_k5  "
      ]
     },
     "execution_count": 24,
     "metadata": {},
     "output_type": "execute_result"
    }
   ],
   "source": [
    "etm_results = pd.read_csv(CSVS_PATH + \"etm_results.csv\")\n",
    "etm_results.sort_values([\"c_npmi\"], ascending=(False))"
   ]
  },
  {
   "cell_type": "code",
   "execution_count": 25,
   "metadata": {},
   "outputs": [],
   "source": [
    "emt1 = joblib.load(ETM_MODELS_PATH + \"etm_k5\")"
   ]
  },
  {
   "cell_type": "code",
   "execution_count": 26,
   "metadata": {},
   "outputs": [
    {
     "name": "stdout",
     "output_type": "stream",
     "text": [
      "Topico 0: amigo pessoa coisa tempo gente relacionamento namorar vezar caro garoto amizade entao amigar converso tipo mensagem semana lado menino partir\n",
      "\n",
      "Topico 1: problema ansiedade coisa tempo formar crise vidar ajudar causar psiquiatro vontade voces tipo motivar tratamento terapia sentir atar situacao variar\n",
      "\n",
      "Topico 2: faculdade trabalhar escola vidar cursar tempo pessoa empregar dinheiro coisa partir aula cidade formar lugar ensinar atar professorar sociedade empresar\n",
      "\n",
      "Topico 3: pessoa vidar coisa vezar mundo sentir medo suicidio tempo momento vontade amor morte verdade sentimento mentir pensamento fato tristeza atar\n",
      "\n",
      "Topico 4: casar familia vidar coisa mulher semana entao tempo noite pessoa atar filho remedios caro homem horar suicidio vezar lugar irma\n",
      "\n"
     ]
    }
   ],
   "source": [
    "for idx, topic in enumerate(emt1['topics']):\n",
    "    print(f'Topico {idx}: {\" \".join(topic)}\\n')"
   ]
  },
  {
   "cell_type": "markdown",
   "metadata": {},
   "source": [
    "Tópico 0: <br>\n",
    "1: <br>\n",
    "2: <br>\n",
    "3: <br>\n",
    "4: <br>\n",
    "5: <br>\n",
    "6: relacionamentos<br>\n",
    "7: <br>\n",
    "8: <br>\n",
    "9: pensamentos mórbidos<br>\n",
    "10: <br>\n",
    "11: <br>\n",
    "12: <br>\n",
    "13: tratamento de depressão<br>\n",
    "14: família<br>\n",
    "15: ruminação<br>\n",
    "16: estudos / trabalho<br>\n",
    "17: relacionamentos/familia<br>"
   ]
  },
  {
   "cell_type": "markdown",
   "metadata": {},
   "source": [
    "### Resultados de treinamento LDA"
   ]
  },
  {
   "cell_type": "code",
   "execution_count": 27,
   "metadata": {},
   "outputs": [
    {
     "data": {
      "text/html": [
       "<div>\n",
       "<style scoped>\n",
       "    .dataframe tbody tr th:only-of-type {\n",
       "        vertical-align: middle;\n",
       "    }\n",
       "\n",
       "    .dataframe tbody tr th {\n",
       "        vertical-align: top;\n",
       "    }\n",
       "\n",
       "    .dataframe thead th {\n",
       "        text-align: right;\n",
       "    }\n",
       "</style>\n",
       "<table border=\"1\" class=\"dataframe\">\n",
       "  <thead>\n",
       "    <tr style=\"text-align: right;\">\n",
       "      <th></th>\n",
       "      <th>Unnamed: 0</th>\n",
       "      <th>k</th>\n",
       "      <th>model</th>\n",
       "      <th>c_v</th>\n",
       "      <th>u_mass</th>\n",
       "      <th>c_uci</th>\n",
       "      <th>c_npmi</th>\n",
       "      <th>diversity</th>\n",
       "      <th>path</th>\n",
       "    </tr>\n",
       "  </thead>\n",
       "  <tbody>\n",
       "    <tr>\n",
       "      <th>0</th>\n",
       "      <td>0</td>\n",
       "      <td>5.0</td>\n",
       "      <td>lda_k5</td>\n",
       "      <td>0.217436</td>\n",
       "      <td>-2.783523</td>\n",
       "      <td>-2.504574</td>\n",
       "      <td>-0.08926</td>\n",
       "      <td>0.5</td>\n",
       "      <td>training_outputs/models/lda/lda_k5</td>\n",
       "    </tr>\n",
       "  </tbody>\n",
       "</table>\n",
       "</div>"
      ],
      "text/plain": [
       "   Unnamed: 0    k   model       c_v    u_mass     c_uci   c_npmi  diversity  \\\n",
       "0           0  5.0  lda_k5  0.217436 -2.783523 -2.504574 -0.08926        0.5   \n",
       "\n",
       "                                 path  \n",
       "0  training_outputs/models/lda/lda_k5  "
      ]
     },
     "execution_count": 27,
     "metadata": {},
     "output_type": "execute_result"
    }
   ],
   "source": [
    "lda_results = pd.read_csv(CSVS_PATH + \"lda_results.csv\")\n",
    "lda_results.sort_values([\"c_npmi\"], ascending=(False))"
   ]
  },
  {
   "cell_type": "code",
   "execution_count": 28,
   "metadata": {},
   "outputs": [
    {
     "name": "stdout",
     "output_type": "stream",
     "text": [
      "Topico 0: salariar rotina empresar carreira fracassar bolsar area filho estagiar universidade curso panico semestre jogar roupar medicar quarentenar remedio cursar grupar\n",
      "\n",
      "Topico 1: voce roupar salariar mensagem semestre carreira quarentenar irma erro estagiar maximo madrugar rede atitude foto ficar desculpar solidao idade super\n",
      "\n",
      "Topico 2: drogar estagiar salariar universidade empresar bolsar cursar energia solucao estudar redor realidade filho vaziar remedio roupar usar medicar ruir homem\n",
      "\n",
      "Topico 3: universidade estagiar semestre salariar professorar solucao carreira perspectivo sucesso sofrer tristeza tentar estudo necessidade erro solidao esperanca deus valor noticiar\n",
      "\n",
      "Topico 4: sintoma chorar drogar panico efeito erro fase sacar porra homem deixar solucao sexo perder ligar vaziar todo remedios quartar amizade\n",
      "\n"
     ]
    }
   ],
   "source": [
    "lda1 = joblib.load(LDA_MODELS_PATH + \"lda_k5\")\n",
    "for idx, topic in enumerate(lda1[\"topics\"]):\n",
    "    print(f'Topico {idx}: {\" \".join(topic)}\\n')"
   ]
  },
  {
   "cell_type": "markdown",
   "metadata": {},
   "source": [
    "Tópico 0: sociedade<br>\n",
    "1: relacionamento amoroso<br>\n",
    "2: ensino<br>\n",
    "3: emoções<br>\n",
    "4: estudos<br>"
   ]
  },
  {
   "cell_type": "markdown",
   "metadata": {},
   "source": [
    "### Resultados de treinamento gerais"
   ]
  },
  {
   "cell_type": "markdown",
   "metadata": {},
   "source": [
    "Unificando os resultados em CSV avaliados anteriormente, pode-se determinar o modelo com maior valor de coerência dentre todos aqueles treinados (LDA, CTM, ETM)."
   ]
  },
  {
   "cell_type": "code",
   "execution_count": 29,
   "metadata": {},
   "outputs": [
    {
     "data": {
      "text/html": [
       "<div>\n",
       "<style scoped>\n",
       "    .dataframe tbody tr th:only-of-type {\n",
       "        vertical-align: middle;\n",
       "    }\n",
       "\n",
       "    .dataframe tbody tr th {\n",
       "        vertical-align: top;\n",
       "    }\n",
       "\n",
       "    .dataframe thead th {\n",
       "        text-align: right;\n",
       "    }\n",
       "</style>\n",
       "<table border=\"1\" class=\"dataframe\">\n",
       "  <thead>\n",
       "    <tr style=\"text-align: right;\">\n",
       "      <th></th>\n",
       "      <th>Unnamed: 0</th>\n",
       "      <th>k</th>\n",
       "      <th>model</th>\n",
       "      <th>c_v</th>\n",
       "      <th>u_mass</th>\n",
       "      <th>c_uci</th>\n",
       "      <th>c_npmi</th>\n",
       "      <th>diversity</th>\n",
       "      <th>path</th>\n",
       "    </tr>\n",
       "  </thead>\n",
       "  <tbody>\n",
       "    <tr>\n",
       "      <th>1</th>\n",
       "      <td>0</td>\n",
       "      <td>5.0</td>\n",
       "      <td>etm_k5</td>\n",
       "      <td>0.424796</td>\n",
       "      <td>-1.556681</td>\n",
       "      <td>0.003290</td>\n",
       "      <td>0.000643</td>\n",
       "      <td>0.55</td>\n",
       "      <td>training_outputs/models/etm/etm_k5</td>\n",
       "    </tr>\n",
       "    <tr>\n",
       "      <th>0</th>\n",
       "      <td>0</td>\n",
       "      <td>5.0</td>\n",
       "      <td>ctm_k5_combined</td>\n",
       "      <td>0.338887</td>\n",
       "      <td>-2.109887</td>\n",
       "      <td>-1.170980</td>\n",
       "      <td>-0.039418</td>\n",
       "      <td>0.53</td>\n",
       "      <td>training_outputs/models/ctm/ctm_k5_combined</td>\n",
       "    </tr>\n",
       "    <tr>\n",
       "      <th>2</th>\n",
       "      <td>0</td>\n",
       "      <td>5.0</td>\n",
       "      <td>lda_k5</td>\n",
       "      <td>0.217436</td>\n",
       "      <td>-2.783523</td>\n",
       "      <td>-2.504574</td>\n",
       "      <td>-0.089260</td>\n",
       "      <td>0.50</td>\n",
       "      <td>training_outputs/models/lda/lda_k5</td>\n",
       "    </tr>\n",
       "  </tbody>\n",
       "</table>\n",
       "</div>"
      ],
      "text/plain": [
       "   Unnamed: 0    k            model       c_v    u_mass     c_uci    c_npmi  \\\n",
       "1           0  5.0           etm_k5  0.424796 -1.556681  0.003290  0.000643   \n",
       "0           0  5.0  ctm_k5_combined  0.338887 -2.109887 -1.170980 -0.039418   \n",
       "2           0  5.0           lda_k5  0.217436 -2.783523 -2.504574 -0.089260   \n",
       "\n",
       "   diversity                                         path  \n",
       "1       0.55           training_outputs/models/etm/etm_k5  \n",
       "0       0.53  training_outputs/models/ctm/ctm_k5_combined  \n",
       "2       0.50           training_outputs/models/lda/lda_k5  "
      ]
     },
     "execution_count": 29,
     "metadata": {},
     "output_type": "execute_result"
    }
   ],
   "source": [
    "df_geral = pd.concat([ctm_results, etm_results, lda_results], ignore_index=True)\n",
    "df_geral.sort_values([\"c_npmi\"], ascending=(False))"
   ]
  },
  {
   "cell_type": "markdown",
   "metadata": {},
   "source": [
    "De forma geral os tópicos obtidos nesse relatório têm grandes deficiências, onde muitos dos tópicos encontrados apresentam termos com pouca relação entre si. Pode-se destacar a presença grande de termos inúteis nos tópicos LDA (especialmente a palabra \"removed\")."
   ]
  },
  {
   "cell_type": "code",
   "execution_count": null,
   "metadata": {},
   "outputs": [],
   "source": []
  },
  {
   "cell_type": "code",
   "execution_count": null,
   "metadata": {},
   "outputs": [],
   "source": []
  },
  {
   "cell_type": "code",
   "execution_count": null,
   "metadata": {},
   "outputs": [],
   "source": []
  },
  {
   "cell_type": "code",
   "execution_count": null,
   "metadata": {},
   "outputs": [],
   "source": []
  },
  {
   "cell_type": "code",
   "execution_count": null,
   "metadata": {},
   "outputs": [],
   "source": []
  },
  {
   "cell_type": "code",
   "execution_count": null,
   "metadata": {},
   "outputs": [],
   "source": []
  },
  {
   "cell_type": "code",
   "execution_count": null,
   "metadata": {},
   "outputs": [],
   "source": []
  }
 ],
 "metadata": {
  "kernelspec": {
   "display_name": "Python 3",
   "language": "python",
   "name": "python3"
  },
  "language_info": {
   "codemirror_mode": {
    "name": "ipython",
    "version": 3
   },
   "file_extension": ".py",
   "mimetype": "text/x-python",
   "name": "python",
   "nbconvert_exporter": "python",
   "pygments_lexer": "ipython3",
   "version": "3.7.6"
  }
 },
 "nbformat": 4,
 "nbformat_minor": 4
}
