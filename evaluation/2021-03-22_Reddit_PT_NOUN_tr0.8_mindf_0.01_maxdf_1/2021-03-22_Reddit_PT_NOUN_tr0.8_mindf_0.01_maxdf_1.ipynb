{
 "cells": [
  {
   "cell_type": "markdown",
   "metadata": {},
   "source": [
    "# Resultados - *Reddit* em português"
   ]
  },
  {
   "cell_type": "markdown",
   "metadata": {},
   "source": [
    "Os testes a seguir foram realizados com o *corpus* em português de submissões do *Reddit* relacionadas à depressão.\n",
    "\n",
    "3404 documentos de submissões foram utilizados para realização dos treinamentos dos modelos aqui avaliados. O conjunto foi coletado a partir do uso da API Pushshift e compreende postagens do período de 2008 a 2021 realizadas nos subreddits \"desabafos\" e \"brasil\". Como tais subreddits não são específicos ao tema de interesse - depressão - foi necessária uma busca mediada pelo uso de palavras-chave. Desta forma, o objetivo era delimitar as postagens a serem coletadas, de forma que apenas conteúdo relacionado a discussões sobre depressão fosse armazenado.\n",
    "\n",
    "As seguintes palavras-chave foram usadas na coleta:\n",
    "* \"depressão\"\n",
    "* \"suicídio\"\n",
    "* \"diagnóstico depressão\"\n",
    "* \"tratamento depressão\"\n",
    "\n",
    "\n",
    "Em seguida, uma etapa de pré-processamento do dataset e de preparação das entradas para cada um dos modelos foi realizada. As etapas de pré-processamento textual realizadas foram as seguintes, na ordem de listagem:\n",
    "\n",
    "* remoção de \\n e aspas simples\n",
    "* tokenização de documentos\n",
    "* lematização de documentos\n",
    "* remoção de categorias de part-of-speech diferentes de substantivos (testes foram feitos utilizando substantivos, verbos e adjetivos, assim como somente substantivos e adjetivos, mas os resultados foram melhores apenas usando substantivos)\n",
    "* remoção de stopwords\n",
    "* remoção de termos infrequentes em documentos (freq. mín. = 1%, ou pelo menos 33 documentos do corpus)\n",
    "\n",
    "Para as análises a seguir baseadas em embeddings de palavras os embeddings word2vec empregados no treinamento dos modelos ETM foram reutilizados. Esses embeddings são oriundos do projeto [Wikipedia2Vec](https://wikipedia2vec.github.io/wikipedia2vec/pretrained/). Apenas embeddings de palavras foram considerados para a análise; dessa forma, os embeddings de entidades do Wikipedia2Vec foram ignorados."
   ]
  },
  {
   "cell_type": "markdown",
   "metadata": {},
   "source": [
    "### Importações e configurações de ambiente"
   ]
  },
  {
   "cell_type": "code",
   "execution_count": 1,
   "metadata": {},
   "outputs": [],
   "source": [
    "%load_ext autoreload\n",
    "%autoreload 2\n",
    "\n",
    "from utils.plots import plot_wordcloud_by_word_probability, plot_coherence_by_k_graph, plot_tsne_graph_for_model, plot_lexical_categories_histogram\n",
    "from utils.topics import get_word_probability_mappings\n",
    "from utils.linguistic_inquiry_word_count import get_categories_for_word\n",
    "from utils.notebook import get_coherence_score_for_each_topic, get_corpus_statistics\n",
    "from utils.lexical_categories_analysis import get_liwc_categories_for_topics, get_raw_liwc_categories_for_topics\n",
    "import sys, time, json, os, joblib, numpy as np, pandas as pd, ast\n",
    "import pyLDAvis\n",
    "import pyLDAvis.sklearn\n",
    "\n",
    "pyLDAvis.enable_notebook()\n",
    "\n",
    "WORKDIR = os.getcwd()\n",
    "EMBEDDINGS_PATH = f'{WORKDIR}/../../embeddings/'\n",
    "MODELS_PATH = f'{WORKDIR}/models/'\n",
    "CSVS_PATH = f'{WORKDIR}/csvs/'\n",
    "RESOURCES_PATH = f'{WORKDIR}/resources/'\n",
    "WORDS_PER_TOPIC = 20\n",
    "\n",
    "# Arquivos\n",
    "ORIGINAL_DATASET = f'{WORKDIR}/../../datasets/original/brasil_desabafos_2008_2021/reddit-posts-gatherer-pt.submissions_[without_duplicates].json'\n",
    "PREPROCESSED_DATASET = f'{WORKDIR}/../../datasets/processed/reddit-posts-gatherer-noun/reddit-posts-gatherer-pt.submissions_noun[processed].json'\n",
    "TEST_DATASET = f'{WORKDIR}/resources/test_documents.json'\n",
    "DICTIONARY = f'{WORKDIR}/resources/word_dictionary.gdict'\n",
    "WORD_LEMMA_MAPPING = f'{WORKDIR}/../../datasets/processed/reddit-posts-gatherer-noun/reddit-posts-gatherer-pt.submissions_noun[word_lemma_maps].json'\n",
    "LIWC_DICTIONARY = f'{WORKDIR}/../../liwc/LIWC2007_Portugues_win.dic'"
   ]
  },
  {
   "cell_type": "markdown",
   "metadata": {},
   "source": [
    "### Informações do dataset"
   ]
  },
  {
   "cell_type": "code",
   "execution_count": 3,
   "metadata": {},
   "outputs": [
    {
     "name": "stdout",
     "output_type": "stream",
     "text": [
      "Tamanho do dataset original (sem duplicatas): 3404\n",
      "Número médio de tokens por documento no dataset original: 370\n",
      "Número de tokens únicos no dataset original: 81451\n",
      "Tamanho do dataset após pré-processamento: 3394\n"
     ]
    }
   ],
   "source": [
    "original_data = json.load(open(ORIGINAL_DATASET, 'r'))\n",
    "total_docs_orig, avg_no_of_tokens_orig_data, no_of_unique_tokens_orig_data = get_corpus_statistics(original_data)\n",
    "print(f'Tamanho do dataset original (sem duplicatas): {total_docs_orig}')\n",
    "print(f'Número médio de tokens por documento no dataset original: {avg_no_of_tokens_orig_data}')\n",
    "print(f'Número de tokens únicos no dataset original: {no_of_unique_tokens_orig_data}')\n",
    "preprocessed_data = json.load(open(PREPROCESSED_DATASET, 'r'))\n",
    "print(f'Tamanho do dataset após pré-processamento: {len(preprocessed_data)}')"
   ]
  },
  {
   "cell_type": "markdown",
   "metadata": {},
   "source": [
    "### Resultados dos treinamentos de cada tipo de modelo"
   ]
  },
  {
   "cell_type": "markdown",
   "metadata": {},
   "source": [
    "Nesta seção, avaliaremos os modelos CTM, ETM e LDA com maior valor para métrica de coerência quanto aos tópicos gerados pelos mesmos. A métrica de coerência NPMI é calculada após o treinamento de cada modelo, e emprega o dataset de teste para tal. 80% dos documentos foram utilizados para treino e os 20% restantes para o teste (cálculo de coerência).\n",
    "\n",
    "Nesta seção, também será realizada a rotulação manual dos tópicos com significado mais claro.\n",
    "\n",
    "As nuvens de palavras de cada tópico levam em consideração a probabilidade de cada palavra no seu respectivo tópico. Apenas as 20 palavras mais importantes de cada tópico serão usadas para as visualizações a seguir.\n",
    "\n",
    "Na listagem dos modelos pelo total de coerência, apenas os 5 primeiros modelos serão exibidos."
   ]
  },
  {
   "cell_type": "markdown",
   "metadata": {},
   "source": [
    "#### CTM"
   ]
  },
  {
   "cell_type": "markdown",
   "metadata": {},
   "source": [
    "Os modelos CTM tiveram resultados semelhantes entre si na métrica de coerência NPMI. O melhor colocado foi o CTM com 20 tópicos, portanto este será analisado abaixo."
   ]
  },
  {
   "cell_type": "code",
   "execution_count": 20,
   "metadata": {},
   "outputs": [
    {
     "data": {
      "text/html": [
       "<div>\n",
       "<style scoped>\n",
       "    .dataframe tbody tr th:only-of-type {\n",
       "        vertical-align: middle;\n",
       "    }\n",
       "\n",
       "    .dataframe tbody tr th {\n",
       "        vertical-align: top;\n",
       "    }\n",
       "\n",
       "    .dataframe thead th {\n",
       "        text-align: right;\n",
       "    }\n",
       "</style>\n",
       "<table border=\"1\" class=\"dataframe\">\n",
       "  <thead>\n",
       "    <tr style=\"text-align: right;\">\n",
       "      <th></th>\n",
       "      <th>Unnamed: 0</th>\n",
       "      <th>k</th>\n",
       "      <th>model</th>\n",
       "      <th>c_npmi_train</th>\n",
       "      <th>c_npmi_test</th>\n",
       "      <th>diversity</th>\n",
       "      <th>path</th>\n",
       "      <th>train_time_in_seconds</th>\n",
       "    </tr>\n",
       "  </thead>\n",
       "  <tbody>\n",
       "    <tr>\n",
       "      <th>6</th>\n",
       "      <td>6</td>\n",
       "      <td>20.0</td>\n",
       "      <td>ctm_k20_combined</td>\n",
       "      <td>-0.104791</td>\n",
       "      <td>-0.188456</td>\n",
       "      <td>0.402500</td>\n",
       "      <td>ctm/ctm_k20_combined</td>\n",
       "      <td>75.464190</td>\n",
       "    </tr>\n",
       "    <tr>\n",
       "      <th>9</th>\n",
       "      <td>9</td>\n",
       "      <td>28.0</td>\n",
       "      <td>ctm_k28_combined</td>\n",
       "      <td>-0.100893</td>\n",
       "      <td>-0.203868</td>\n",
       "      <td>0.373214</td>\n",
       "      <td>ctm/ctm_k28_combined</td>\n",
       "      <td>76.100783</td>\n",
       "    </tr>\n",
       "    <tr>\n",
       "      <th>2</th>\n",
       "      <td>2</td>\n",
       "      <td>10.0</td>\n",
       "      <td>ctm_k10_combined</td>\n",
       "      <td>-0.141462</td>\n",
       "      <td>-0.206100</td>\n",
       "      <td>0.480000</td>\n",
       "      <td>ctm/ctm_k10_combined</td>\n",
       "      <td>74.578925</td>\n",
       "    </tr>\n",
       "    <tr>\n",
       "      <th>8</th>\n",
       "      <td>8</td>\n",
       "      <td>25.0</td>\n",
       "      <td>ctm_k25_combined</td>\n",
       "      <td>-0.107023</td>\n",
       "      <td>-0.211983</td>\n",
       "      <td>0.374000</td>\n",
       "      <td>ctm/ctm_k25_combined</td>\n",
       "      <td>75.876350</td>\n",
       "    </tr>\n",
       "    <tr>\n",
       "      <th>4</th>\n",
       "      <td>4</td>\n",
       "      <td>15.0</td>\n",
       "      <td>ctm_k15_combined</td>\n",
       "      <td>-0.139718</td>\n",
       "      <td>-0.218820</td>\n",
       "      <td>0.416667</td>\n",
       "      <td>ctm/ctm_k15_combined</td>\n",
       "      <td>75.388322</td>\n",
       "    </tr>\n",
       "  </tbody>\n",
       "</table>\n",
       "</div>"
      ],
      "text/plain": [
       "   Unnamed: 0     k             model  c_npmi_train  c_npmi_test  diversity  \\\n",
       "6           6  20.0  ctm_k20_combined     -0.104791    -0.188456   0.402500   \n",
       "9           9  28.0  ctm_k28_combined     -0.100893    -0.203868   0.373214   \n",
       "2           2  10.0  ctm_k10_combined     -0.141462    -0.206100   0.480000   \n",
       "8           8  25.0  ctm_k25_combined     -0.107023    -0.211983   0.374000   \n",
       "4           4  15.0  ctm_k15_combined     -0.139718    -0.218820   0.416667   \n",
       "\n",
       "                   path  train_time_in_seconds  \n",
       "6  ctm/ctm_k20_combined              75.464190  \n",
       "9  ctm/ctm_k28_combined              76.100783  \n",
       "2  ctm/ctm_k10_combined              74.578925  \n",
       "8  ctm/ctm_k25_combined              75.876350  \n",
       "4  ctm/ctm_k15_combined              75.388322  "
      ]
     },
     "execution_count": 20,
     "metadata": {},
     "output_type": "execute_result"
    }
   ],
   "source": [
    "ctm_results = pd.read_csv(CSVS_PATH + \"ctm_combined_results.csv\")\n",
    "ctm_results_by_coherence = ctm_results.sort_values([\"c_npmi_test\"], ascending=(False))\n",
    "ctm_results_by_coherence.head()"
   ]
  },
  {
   "cell_type": "markdown",
   "metadata": {},
   "source": [
    "#### ETM"
   ]
  },
  {
   "cell_type": "markdown",
   "metadata": {},
   "source": [
    "O modelo ETM com melhor resultado foi aquele com 5 tópicos."
   ]
  },
  {
   "cell_type": "code",
   "execution_count": 21,
   "metadata": {},
   "outputs": [
    {
     "data": {
      "text/html": [
       "<div>\n",
       "<style scoped>\n",
       "    .dataframe tbody tr th:only-of-type {\n",
       "        vertical-align: middle;\n",
       "    }\n",
       "\n",
       "    .dataframe tbody tr th {\n",
       "        vertical-align: top;\n",
       "    }\n",
       "\n",
       "    .dataframe thead th {\n",
       "        text-align: right;\n",
       "    }\n",
       "</style>\n",
       "<table border=\"1\" class=\"dataframe\">\n",
       "  <thead>\n",
       "    <tr style=\"text-align: right;\">\n",
       "      <th></th>\n",
       "      <th>Unnamed: 0</th>\n",
       "      <th>k</th>\n",
       "      <th>model</th>\n",
       "      <th>c_npmi_train</th>\n",
       "      <th>c_npmi_test</th>\n",
       "      <th>diversity</th>\n",
       "      <th>path</th>\n",
       "      <th>train_time_in_seconds</th>\n",
       "    </tr>\n",
       "  </thead>\n",
       "  <tbody>\n",
       "    <tr>\n",
       "      <th>0</th>\n",
       "      <td>0</td>\n",
       "      <td>5.0</td>\n",
       "      <td>etm_k5</td>\n",
       "      <td>-0.009967</td>\n",
       "      <td>-0.025955</td>\n",
       "      <td>0.640000</td>\n",
       "      <td>etm/etm_k5</td>\n",
       "      <td>66.121439</td>\n",
       "    </tr>\n",
       "    <tr>\n",
       "      <th>1</th>\n",
       "      <td>1</td>\n",
       "      <td>8.0</td>\n",
       "      <td>etm_k8</td>\n",
       "      <td>-0.000296</td>\n",
       "      <td>-0.035100</td>\n",
       "      <td>0.675000</td>\n",
       "      <td>etm/etm_k8</td>\n",
       "      <td>66.568795</td>\n",
       "    </tr>\n",
       "    <tr>\n",
       "      <th>2</th>\n",
       "      <td>2</td>\n",
       "      <td>10.0</td>\n",
       "      <td>etm_k10</td>\n",
       "      <td>0.000563</td>\n",
       "      <td>-0.039160</td>\n",
       "      <td>0.595000</td>\n",
       "      <td>etm/etm_k10</td>\n",
       "      <td>66.166846</td>\n",
       "    </tr>\n",
       "    <tr>\n",
       "      <th>3</th>\n",
       "      <td>3</td>\n",
       "      <td>12.0</td>\n",
       "      <td>etm_k12</td>\n",
       "      <td>-0.000751</td>\n",
       "      <td>-0.043647</td>\n",
       "      <td>0.575000</td>\n",
       "      <td>etm/etm_k12</td>\n",
       "      <td>67.162926</td>\n",
       "    </tr>\n",
       "    <tr>\n",
       "      <th>4</th>\n",
       "      <td>4</td>\n",
       "      <td>15.0</td>\n",
       "      <td>etm_k15</td>\n",
       "      <td>-0.001664</td>\n",
       "      <td>-0.055317</td>\n",
       "      <td>0.516667</td>\n",
       "      <td>etm/etm_k15</td>\n",
       "      <td>66.922859</td>\n",
       "    </tr>\n",
       "  </tbody>\n",
       "</table>\n",
       "</div>"
      ],
      "text/plain": [
       "   Unnamed: 0     k    model  c_npmi_train  c_npmi_test  diversity  \\\n",
       "0           0   5.0   etm_k5     -0.009967    -0.025955   0.640000   \n",
       "1           1   8.0   etm_k8     -0.000296    -0.035100   0.675000   \n",
       "2           2  10.0  etm_k10      0.000563    -0.039160   0.595000   \n",
       "3           3  12.0  etm_k12     -0.000751    -0.043647   0.575000   \n",
       "4           4  15.0  etm_k15     -0.001664    -0.055317   0.516667   \n",
       "\n",
       "          path  train_time_in_seconds  \n",
       "0   etm/etm_k5              66.121439  \n",
       "1   etm/etm_k8              66.568795  \n",
       "2  etm/etm_k10              66.166846  \n",
       "3  etm/etm_k12              67.162926  \n",
       "4  etm/etm_k15              66.922859  "
      ]
     },
     "execution_count": 21,
     "metadata": {},
     "output_type": "execute_result"
    }
   ],
   "source": [
    "etm_results = pd.read_csv(CSVS_PATH + \"etm_results.csv\")\n",
    "etm_results_by_coherence = etm_results.sort_values([\"c_npmi_test\"], ascending=(False))\n",
    "etm_results_by_coherence.head()"
   ]
  },
  {
   "cell_type": "markdown",
   "metadata": {},
   "source": [
    "#### LDA"
   ]
  },
  {
   "cell_type": "markdown",
   "metadata": {},
   "source": [
    "Os modelos LDA tiveram resultados semelhantes em termos de coerência àqueles obtidos pelos modelos ETM. O modelo LDA com melhor valor para a métrica de coerência foi aquele onde K=5, assim como no caso do ETM."
   ]
  },
  {
   "cell_type": "code",
   "execution_count": 22,
   "metadata": {},
   "outputs": [
    {
     "data": {
      "text/html": [
       "<div>\n",
       "<style scoped>\n",
       "    .dataframe tbody tr th:only-of-type {\n",
       "        vertical-align: middle;\n",
       "    }\n",
       "\n",
       "    .dataframe tbody tr th {\n",
       "        vertical-align: top;\n",
       "    }\n",
       "\n",
       "    .dataframe thead th {\n",
       "        text-align: right;\n",
       "    }\n",
       "</style>\n",
       "<table border=\"1\" class=\"dataframe\">\n",
       "  <thead>\n",
       "    <tr style=\"text-align: right;\">\n",
       "      <th></th>\n",
       "      <th>Unnamed: 0</th>\n",
       "      <th>k</th>\n",
       "      <th>model</th>\n",
       "      <th>c_npmi_train</th>\n",
       "      <th>c_npmi_test</th>\n",
       "      <th>diversity</th>\n",
       "      <th>path</th>\n",
       "      <th>train_time_in_seconds</th>\n",
       "    </tr>\n",
       "  </thead>\n",
       "  <tbody>\n",
       "    <tr>\n",
       "      <th>0</th>\n",
       "      <td>0</td>\n",
       "      <td>5.0</td>\n",
       "      <td>lda_k5</td>\n",
       "      <td>-0.000516</td>\n",
       "      <td>-0.006473</td>\n",
       "      <td>0.350000</td>\n",
       "      <td>lda/lda_k5</td>\n",
       "      <td>6.027192</td>\n",
       "    </tr>\n",
       "    <tr>\n",
       "      <th>1</th>\n",
       "      <td>1</td>\n",
       "      <td>8.0</td>\n",
       "      <td>lda_k8</td>\n",
       "      <td>-0.004791</td>\n",
       "      <td>-0.017459</td>\n",
       "      <td>0.337500</td>\n",
       "      <td>lda/lda_k8</td>\n",
       "      <td>5.429506</td>\n",
       "    </tr>\n",
       "    <tr>\n",
       "      <th>2</th>\n",
       "      <td>2</td>\n",
       "      <td>10.0</td>\n",
       "      <td>lda_k10</td>\n",
       "      <td>-0.007966</td>\n",
       "      <td>-0.047824</td>\n",
       "      <td>0.430000</td>\n",
       "      <td>lda/lda_k10</td>\n",
       "      <td>5.168725</td>\n",
       "    </tr>\n",
       "    <tr>\n",
       "      <th>3</th>\n",
       "      <td>3</td>\n",
       "      <td>12.0</td>\n",
       "      <td>lda_k12</td>\n",
       "      <td>-0.012604</td>\n",
       "      <td>-0.059560</td>\n",
       "      <td>0.441667</td>\n",
       "      <td>lda/lda_k12</td>\n",
       "      <td>5.302516</td>\n",
       "    </tr>\n",
       "    <tr>\n",
       "      <th>4</th>\n",
       "      <td>4</td>\n",
       "      <td>15.0</td>\n",
       "      <td>lda_k15</td>\n",
       "      <td>-0.024290</td>\n",
       "      <td>-0.073969</td>\n",
       "      <td>0.453333</td>\n",
       "      <td>lda/lda_k15</td>\n",
       "      <td>5.485522</td>\n",
       "    </tr>\n",
       "  </tbody>\n",
       "</table>\n",
       "</div>"
      ],
      "text/plain": [
       "   Unnamed: 0     k    model  c_npmi_train  c_npmi_test  diversity  \\\n",
       "0           0   5.0   lda_k5     -0.000516    -0.006473   0.350000   \n",
       "1           1   8.0   lda_k8     -0.004791    -0.017459   0.337500   \n",
       "2           2  10.0  lda_k10     -0.007966    -0.047824   0.430000   \n",
       "3           3  12.0  lda_k12     -0.012604    -0.059560   0.441667   \n",
       "4           4  15.0  lda_k15     -0.024290    -0.073969   0.453333   \n",
       "\n",
       "          path  train_time_in_seconds  \n",
       "0   lda/lda_k5               6.027192  \n",
       "1   lda/lda_k8               5.429506  \n",
       "2  lda/lda_k10               5.168725  \n",
       "3  lda/lda_k12               5.302516  \n",
       "4  lda/lda_k15               5.485522  "
      ]
     },
     "execution_count": 22,
     "metadata": {},
     "output_type": "execute_result"
    }
   ],
   "source": [
    "lda_results = pd.read_csv(CSVS_PATH + \"lda_results.csv\")\n",
    "lda_results_by_coherence = lda_results.sort_values([\"c_npmi_test\"], ascending=(False))\n",
    "lda_results_by_coherence.head()"
   ]
  },
  {
   "cell_type": "markdown",
   "metadata": {},
   "source": [
    "### Resultados de treinamento gerais"
   ]
  },
  {
   "cell_type": "markdown",
   "metadata": {},
   "source": [
    "Unificando os resultados em CSV avaliados anteriormente, pode-se determinar o modelo com maior valor de coerência dentre todos aqueles treinados (LDA, CTM, ETM).\n",
    "\n",
    "O modelo LDA com K=5 tópicos foi aquele que teve melhor resultado de coerência, seguido por outros modelos LDA e ETM."
   ]
  },
  {
   "cell_type": "code",
   "execution_count": 23,
   "metadata": {
    "scrolled": true
   },
   "outputs": [
    {
     "data": {
      "text/html": [
       "<div>\n",
       "<style scoped>\n",
       "    .dataframe tbody tr th:only-of-type {\n",
       "        vertical-align: middle;\n",
       "    }\n",
       "\n",
       "    .dataframe tbody tr th {\n",
       "        vertical-align: top;\n",
       "    }\n",
       "\n",
       "    .dataframe thead th {\n",
       "        text-align: right;\n",
       "    }\n",
       "</style>\n",
       "<table border=\"1\" class=\"dataframe\">\n",
       "  <thead>\n",
       "    <tr style=\"text-align: right;\">\n",
       "      <th></th>\n",
       "      <th>Unnamed: 0</th>\n",
       "      <th>k</th>\n",
       "      <th>model</th>\n",
       "      <th>c_npmi_train</th>\n",
       "      <th>c_npmi_test</th>\n",
       "      <th>diversity</th>\n",
       "      <th>path</th>\n",
       "      <th>train_time_in_seconds</th>\n",
       "    </tr>\n",
       "  </thead>\n",
       "  <tbody>\n",
       "    <tr>\n",
       "      <th>22</th>\n",
       "      <td>0</td>\n",
       "      <td>5.0</td>\n",
       "      <td>lda_k5</td>\n",
       "      <td>-0.000516</td>\n",
       "      <td>-0.006473</td>\n",
       "      <td>0.3500</td>\n",
       "      <td>lda/lda_k5</td>\n",
       "      <td>6.027192</td>\n",
       "    </tr>\n",
       "    <tr>\n",
       "      <th>23</th>\n",
       "      <td>1</td>\n",
       "      <td>8.0</td>\n",
       "      <td>lda_k8</td>\n",
       "      <td>-0.004791</td>\n",
       "      <td>-0.017459</td>\n",
       "      <td>0.3375</td>\n",
       "      <td>lda/lda_k8</td>\n",
       "      <td>5.429506</td>\n",
       "    </tr>\n",
       "    <tr>\n",
       "      <th>11</th>\n",
       "      <td>0</td>\n",
       "      <td>5.0</td>\n",
       "      <td>etm_k5</td>\n",
       "      <td>-0.009967</td>\n",
       "      <td>-0.025955</td>\n",
       "      <td>0.6400</td>\n",
       "      <td>etm/etm_k5</td>\n",
       "      <td>66.121439</td>\n",
       "    </tr>\n",
       "    <tr>\n",
       "      <th>12</th>\n",
       "      <td>1</td>\n",
       "      <td>8.0</td>\n",
       "      <td>etm_k8</td>\n",
       "      <td>-0.000296</td>\n",
       "      <td>-0.035100</td>\n",
       "      <td>0.6750</td>\n",
       "      <td>etm/etm_k8</td>\n",
       "      <td>66.568795</td>\n",
       "    </tr>\n",
       "    <tr>\n",
       "      <th>13</th>\n",
       "      <td>2</td>\n",
       "      <td>10.0</td>\n",
       "      <td>etm_k10</td>\n",
       "      <td>0.000563</td>\n",
       "      <td>-0.039160</td>\n",
       "      <td>0.5950</td>\n",
       "      <td>etm/etm_k10</td>\n",
       "      <td>66.166846</td>\n",
       "    </tr>\n",
       "  </tbody>\n",
       "</table>\n",
       "</div>"
      ],
      "text/plain": [
       "    Unnamed: 0     k    model  c_npmi_train  c_npmi_test  diversity  \\\n",
       "22           0   5.0   lda_k5     -0.000516    -0.006473     0.3500   \n",
       "23           1   8.0   lda_k8     -0.004791    -0.017459     0.3375   \n",
       "11           0   5.0   etm_k5     -0.009967    -0.025955     0.6400   \n",
       "12           1   8.0   etm_k8     -0.000296    -0.035100     0.6750   \n",
       "13           2  10.0  etm_k10      0.000563    -0.039160     0.5950   \n",
       "\n",
       "           path  train_time_in_seconds  \n",
       "22   lda/lda_k5               6.027192  \n",
       "23   lda/lda_k8               5.429506  \n",
       "11   etm/etm_k5              66.121439  \n",
       "12   etm/etm_k8              66.568795  \n",
       "13  etm/etm_k10              66.166846  "
      ]
     },
     "execution_count": 23,
     "metadata": {},
     "output_type": "execute_result"
    }
   ],
   "source": [
    "df_geral = pd.concat([ctm_results, etm_results, lda_results], ignore_index=True)\n",
    "df_geral.sort_values([\"c_npmi_test\"], ascending=(False)).head()"
   ]
  },
  {
   "cell_type": "code",
   "execution_count": 35,
   "metadata": {},
   "outputs": [
    {
     "data": {
      "text/html": [
       "<div>\n",
       "<style scoped>\n",
       "    .dataframe tbody tr th:only-of-type {\n",
       "        vertical-align: middle;\n",
       "    }\n",
       "\n",
       "    .dataframe tbody tr th {\n",
       "        vertical-align: top;\n",
       "    }\n",
       "\n",
       "    .dataframe thead th {\n",
       "        text-align: right;\n",
       "    }\n",
       "</style>\n",
       "<table border=\"1\" class=\"dataframe\">\n",
       "  <thead>\n",
       "    <tr style=\"text-align: right;\">\n",
       "      <th></th>\n",
       "      <th>Unnamed: 0</th>\n",
       "      <th>k</th>\n",
       "      <th>model</th>\n",
       "      <th>c_npmi_train</th>\n",
       "      <th>c_npmi_test</th>\n",
       "      <th>diversity</th>\n",
       "      <th>path</th>\n",
       "      <th>train_time_in_seconds</th>\n",
       "    </tr>\n",
       "  </thead>\n",
       "  <tbody>\n",
       "    <tr>\n",
       "      <th>13</th>\n",
       "      <td>2</td>\n",
       "      <td>10.0</td>\n",
       "      <td>etm_k10</td>\n",
       "      <td>0.000563</td>\n",
       "      <td>-0.039160</td>\n",
       "      <td>0.595000</td>\n",
       "      <td>etm/etm_k10</td>\n",
       "      <td>66.166846</td>\n",
       "    </tr>\n",
       "    <tr>\n",
       "      <th>12</th>\n",
       "      <td>1</td>\n",
       "      <td>8.0</td>\n",
       "      <td>etm_k8</td>\n",
       "      <td>-0.000296</td>\n",
       "      <td>-0.035100</td>\n",
       "      <td>0.675000</td>\n",
       "      <td>etm/etm_k8</td>\n",
       "      <td>66.568795</td>\n",
       "    </tr>\n",
       "    <tr>\n",
       "      <th>22</th>\n",
       "      <td>0</td>\n",
       "      <td>5.0</td>\n",
       "      <td>lda_k5</td>\n",
       "      <td>-0.000516</td>\n",
       "      <td>-0.006473</td>\n",
       "      <td>0.350000</td>\n",
       "      <td>lda/lda_k5</td>\n",
       "      <td>6.027192</td>\n",
       "    </tr>\n",
       "    <tr>\n",
       "      <th>14</th>\n",
       "      <td>3</td>\n",
       "      <td>12.0</td>\n",
       "      <td>etm_k12</td>\n",
       "      <td>-0.000751</td>\n",
       "      <td>-0.043647</td>\n",
       "      <td>0.575000</td>\n",
       "      <td>etm/etm_k12</td>\n",
       "      <td>67.162926</td>\n",
       "    </tr>\n",
       "    <tr>\n",
       "      <th>15</th>\n",
       "      <td>4</td>\n",
       "      <td>15.0</td>\n",
       "      <td>etm_k15</td>\n",
       "      <td>-0.001664</td>\n",
       "      <td>-0.055317</td>\n",
       "      <td>0.516667</td>\n",
       "      <td>etm/etm_k15</td>\n",
       "      <td>66.922859</td>\n",
       "    </tr>\n",
       "  </tbody>\n",
       "</table>\n",
       "</div>"
      ],
      "text/plain": [
       "    Unnamed: 0     k    model  c_npmi_train  c_npmi_test  diversity  \\\n",
       "13           2  10.0  etm_k10      0.000563    -0.039160   0.595000   \n",
       "12           1   8.0   etm_k8     -0.000296    -0.035100   0.675000   \n",
       "22           0   5.0   lda_k5     -0.000516    -0.006473   0.350000   \n",
       "14           3  12.0  etm_k12     -0.000751    -0.043647   0.575000   \n",
       "15           4  15.0  etm_k15     -0.001664    -0.055317   0.516667   \n",
       "\n",
       "           path  train_time_in_seconds  \n",
       "13  etm/etm_k10              66.166846  \n",
       "12   etm/etm_k8              66.568795  \n",
       "22   lda/lda_k5               6.027192  \n",
       "14  etm/etm_k12              67.162926  \n",
       "15  etm/etm_k15              66.922859  "
      ]
     },
     "execution_count": 35,
     "metadata": {},
     "output_type": "execute_result"
    }
   ],
   "source": [
    "df_geral = pd.concat([ctm_results, etm_results, lda_results], ignore_index=True)\n",
    "df_geral.sort_values([\"c_npmi_train\"], ascending=(False)).head()"
   ]
  },
  {
   "cell_type": "markdown",
   "metadata": {},
   "source": [
    "O gráfico a seguir mostra a variação de coerência nos modelos treinados, conforme aumenta-se o valor de K. Percebe-se que os modelos LDA e ETM tiveram coerência superior aos modelos CTM em todos os cenários produzidos. Além disso, nota-se que o valor de coerência desce nos modelos LDA/ETM à medida que o número de tópicos aumenta.\n",
    "\n",
    "Os resultados visíveis no gráfico condizem com os termos observados nos tópicos dos modelos de melhor resultado em cada um dos três tipos. Enquanto no modelo CTM alguns tópicos parecem se repetir, nos modelos LDA e ETM os tópicos aparecem apenas uma vez. Isso demonstra a melhor qualidade atingida pelos modelos LDA e ETM nos cenários avaliados."
   ]
  },
  {
   "cell_type": "code",
   "execution_count": 24,
   "metadata": {},
   "outputs": [
    {
     "data": {
      "image/png": "[encoded data removed]",
      "text/plain": [
       "<Figure size 432x288 with 1 Axes>"
      ]
     },
     "metadata": {
      "needs_background": "light"
     },
     "output_type": "display_data"
    }
   ],
   "source": [
    "graph_data = [{ 'x': csv['k'], 'y': csv['c_npmi_test'] } for csv in [ctm_results, etm_results, lda_results]]\n",
    "plot_coherence_by_k_graph(graph_data, ['CTM', 'ETM', 'LDA'])"
   ]
  },
  {
   "cell_type": "code",
   "execution_count": 25,
   "metadata": {},
   "outputs": [
    {
     "data": {
      "image/png": "[encoded data removed]",
      "text/plain": [
       "<Figure size 432x288 with 1 Axes>"
      ]
     },
     "metadata": {
      "needs_background": "light"
     },
     "output_type": "display_data"
    }
   ],
   "source": [
    "graph_data = [{ 'x': csv['k'], 'y': csv['train_time_in_seconds'] } for csv in [ctm_results, etm_results, lda_results]]\n",
    "plot_coherence_by_k_graph(graph_data, ['CTM', 'ETM', 'LDA'])"
   ]
  },
  {
   "cell_type": "markdown",
   "metadata": {},
   "source": [
    "### Explorando o melhor modelo: LDA com 5 tópicos"
   ]
  },
  {
   "cell_type": "code",
   "execution_count": 26,
   "metadata": {},
   "outputs": [],
   "source": [
    "test_docs = json.load(open(TEST_DATASET, \"r\"))[\"split\"]\n",
    "dictionary = joblib.load(DICTIONARY)"
   ]
  },
  {
   "cell_type": "code",
   "execution_count": 27,
   "metadata": {},
   "outputs": [
    {
     "name": "stdout",
     "output_type": "stream",
     "text": [
      "Tópico 0 - pai casar vidar ano coisa mae pessoa familia dia empregar irmao filho vezar irma trabalhar caro dinheiro filhar causar entao\n"
     ]
    },
    {
     "data": {
      "image/png": "[encoded data removed]",
      "text/plain": [
       "<Figure size 432x288 with 1 Axes>"
      ]
     },
     "metadata": {
      "needs_background": "light"
     },
     "output_type": "display_data"
    },
    {
     "name": "stdout",
     "output_type": "stream",
     "text": [
      "Tópico 1 - ano pai faculdade dinheiro casar cursar dia trabalhar empresar cidade partir area escola problema aula tempo professorar mundo contar horar\n"
     ]
    },
    {
     "data": {
      "image/png": "[encoded data removed]",
      "text/plain": [
       "<Figure size 432x288 with 1 Axes>"
      ]
     },
     "metadata": {
      "needs_background": "light"
     },
     "output_type": "display_data"
    },
    {
     "name": "stdout",
     "output_type": "stream",
     "text": [
      "Tópico 2 - vidar dia ansiedade coisa ano tempo problema tratamento ajudar pessoa vezar sentir crise remedios terapia vontade formar psiquiatro mês efeito\n"
     ]
    },
    {
     "data": {
      "image/png": "[encoded data removed]",
      "text/plain": [
       "<Figure size 432x288 with 1 Axes>"
      ]
     },
     "metadata": {
      "needs_background": "light"
     },
     "output_type": "display_data"
    },
    {
     "name": "stdout",
     "output_type": "stream",
     "text": [
      "Tópico 3 - ano dia coisa amigo tempo vidar pessoa gente casar namorar problema amigar vezar entao vez caro atar mês semana escola\n"
     ]
    },
    {
     "data": {
      "image/png": "[encoded data removed]",
      "text/plain": [
       "<Figure size 432x288 with 1 Axes>"
      ]
     },
     "metadata": {
      "needs_background": "light"
     },
     "output_type": "display_data"
    },
    {
     "name": "stdout",
     "output_type": "stream",
     "text": [
      "Tópico 4 - pessoa vidar coisa tempo mundo suicidio problema formar vezar dia sentir momento partir gente amigo tipo medo verdade caro atar\n"
     ]
    },
    {
     "data": {
      "image/png": "[encoded data removed]",
      "text/plain": [
       "<Figure size 432x288 with 1 Axes>"
      ]
     },
     "metadata": {
      "needs_background": "light"
     },
     "output_type": "display_data"
    }
   ],
   "source": [
    "lda_best_model_path = lda_results_by_coherence['path'].tolist()[0]\n",
    "lda1 = joblib.load(os.path.join(MODELS_PATH, lda_best_model_path))\n",
    "\n",
    "lda_topics_probs = [topic[:WORDS_PER_TOPIC] for topic in lda1['topics_with_word_probs']]\n",
    "lda_mapping = get_word_probability_mappings(lda_topics_probs)\n",
    "coherence_by_topic = get_coherence_score_for_each_topic(lda1[\"topics\"], test_docs, dictionary)\n",
    "\n",
    "for idx, mapping in enumerate(lda_mapping):\n",
    "    print(f'Tópico {idx} - {\" \".join(lda1[\"topics\"][idx])}')\n",
    "    plot_wordcloud_by_word_probability(lda_mapping[idx], f'lda_topic={idx+1}')"
   ]
  },
  {
   "cell_type": "markdown",
   "metadata": {},
   "source": [
    "#### Tópicos\n",
    "\n",
    "Tópico 0: família<br>\n",
    "1: estudos / vida profissional<br>\n",
    "2: rotina de problemas mentais<br>\n",
    "3: -<br>\n",
    "4: -<br>"
   ]
  },
  {
   "cell_type": "code",
   "execution_count": 28,
   "metadata": {},
   "outputs": [
    {
     "data": {
      "text/html": [
       "<div>\n",
       "<style scoped>\n",
       "    .dataframe tbody tr th:only-of-type {\n",
       "        vertical-align: middle;\n",
       "    }\n",
       "\n",
       "    .dataframe tbody tr th {\n",
       "        vertical-align: top;\n",
       "    }\n",
       "\n",
       "    .dataframe thead th {\n",
       "        text-align: right;\n",
       "    }\n",
       "</style>\n",
       "<table border=\"1\" class=\"dataframe\">\n",
       "  <thead>\n",
       "    <tr style=\"text-align: right;\">\n",
       "      <th></th>\n",
       "      <th>npmi</th>\n",
       "    </tr>\n",
       "  </thead>\n",
       "  <tbody>\n",
       "    <tr>\n",
       "      <th>0</th>\n",
       "      <td>-0.002456</td>\n",
       "    </tr>\n",
       "    <tr>\n",
       "      <th>2</th>\n",
       "      <td>-0.004057</td>\n",
       "    </tr>\n",
       "    <tr>\n",
       "      <th>3</th>\n",
       "      <td>-0.004769</td>\n",
       "    </tr>\n",
       "    <tr>\n",
       "      <th>1</th>\n",
       "      <td>-0.005065</td>\n",
       "    </tr>\n",
       "    <tr>\n",
       "      <th>4</th>\n",
       "      <td>-0.016018</td>\n",
       "    </tr>\n",
       "  </tbody>\n",
       "</table>\n",
       "</div>"
      ],
      "text/plain": [
       "       npmi\n",
       "0 -0.002456\n",
       "2 -0.004057\n",
       "3 -0.004769\n",
       "1 -0.005065\n",
       "4 -0.016018"
      ]
     },
     "execution_count": 28,
     "metadata": {},
     "output_type": "execute_result"
    }
   ],
   "source": [
    "topics_coherence_table = pd.DataFrame(coherence_by_topic, columns=[\"npmi\"])\n",
    "topics_coherence_table.sort_values([\"npmi\"], ascending=(False))"
   ]
  },
  {
   "cell_type": "markdown",
   "metadata": {},
   "source": [
    "### Distribuição espacial dos tópicos do modelo com melhor coerência usando t-SNE"
   ]
  },
  {
   "cell_type": "markdown",
   "metadata": {},
   "source": [
    "Nesta seção, os modelos CTM, ETM e LDA acima discutidos serão avaliados quanto à sua distribuição espacial.\n",
    "\n",
    "Para tal, os embeddings Wikipedia2Vec foram utilizados para obter a representação vetorial de cada termo dos tópicos obtidos nos três modelos. Como os termos do vocabulário sofreram lematização, nem sempre eles serão encontrados em sua forma lematizada dentro do conjunto de embeddings. Neste caso, um mapeamento auxiliar entre lemas e termos originais foi utilizado. Este mapeamento indica quais termos foram substituídos por um determinado lema no vocabulário. Quando um lema não é encontrado nos embeddings, verifica-se caso algum dos termos substituídos pelo lema existe nos embeddings. Se existir, o vetor do lema será o mesmo vetor da palavra encontrada.\n",
    "\n",
    "Caso nenhum dos termos substituídos seja encontrado nos embeddings, o termo é desconsiderado na obtenção de vetores.\n",
    "\n",
    "Obtidos os vetores de palavras de um tópico, pode-se realizar uma exibição dos mesmos em um espaço vetorial. Como originalmente os embeddings têm 300 dimensões, é preciso realizar redução de dimensionalidade dos vetores. Com esse intuito, foi emprego o algoritmo t-SNE, utilizado para reduzir as 300 dimensões em 2, facilitando a exibição gráfica dos tópicos por meio de um simples gráfico bidimensional.\n",
    "\n",
    "O procedimento descrito foi realizado para cada um dos tópicos dos modelos treinados e está por trás das visualizações exibidas adiante. Além disso, o peso de cada palavra em cada tópico também foi considerado nesta etapa, definindo o tamanho dos pontos relativos a palavras exibidos nos gráficos. Quanto maior o ponto, maior a importância de um dado termo no tópico associado. Contudo, como as probabilidades variam em margens pequenas entre si, as diferenças de tamanho entre os pontos são difíceis de serem notadas."
   ]
  },
  {
   "cell_type": "markdown",
   "metadata": {},
   "source": [
    "#### LDA"
   ]
  },
  {
   "cell_type": "markdown",
   "metadata": {},
   "source": [
    "A figura a seguir exibe a visualização gráfica dos modelo LDA com melhor coerência, onde K=5 tópicos."
   ]
  },
  {
   "cell_type": "code",
   "execution_count": 29,
   "metadata": {},
   "outputs": [],
   "source": [
    "#plot_tsne_graph_for_model(lda1, \"LDA_K=5\")"
   ]
  },
  {
   "cell_type": "markdown",
   "metadata": {},
   "source": [
    "### Termos presentes no LIWC em português mais parecidos com os vetores de tópicos"
   ]
  },
  {
   "cell_type": "markdown",
   "metadata": {},
   "source": [
    "A etapa anterior de obtenção dos vetores de palavras de um tópico auxiliou na análise a seguir. A ideia neste momento é determinar quais os termos do dicionário LIWC em português são mais parecidos com cada um dos tópicos. Dessa forma, pode-se determinar quais categorias semânticas do LIWC estão associadas a cada tópico.\n",
    "\n",
    "Com esse objetivo e de posse dos vetores de palavras, um vetor para cada tópico foi calculado. O vetor de tópico é obtido a partir da média ponderada dos vetores de palavras constituintes do tópico em questão. A média ponderada leva em consideração a importância de cada palavra dentro do tópico, por meio das probabilidades associadas a cada termo do tópico.\n",
    "\n",
    "Em seguida, o embedding do tópico foi usado para determinar os termos mais parecidos com o mesmo por meio da API ```KeyedVectors``` da biblioteca *gensim*. Contudo, apenas termos do conjunto de embeddings que também existiam no dicionário LIWC em língua portuguesa foram considerados nesta comparação. Isto pois, em testes preliminares, frequentemente o termo mais parecido com o tópico não existia no dicionário LIWC.\n",
    "\n",
    "Finalmente, o termo mais parecido com o tópico é assim determinado e suas categorias semânticas extraídas usando o LIWC. Os resultados obtidos são dados abaixo."
   ]
  },
  {
   "cell_type": "markdown",
   "metadata": {},
   "source": [
    "#### LDA"
   ]
  },
  {
   "cell_type": "markdown",
   "metadata": {},
   "source": [
    "Os termos mais parecidos com cada tópico do modelo com K=5 do LDA são mostrados a seguir. As categorias do LIWC associadas ao termo também são exibidas."
   ]
  },
  {
   "cell_type": "code",
   "execution_count": 30,
   "metadata": {},
   "outputs": [
    {
     "name": "stdout",
     "output_type": "stream",
     "text": [
      "Tópico 1: pai, casar, vidar, ano, coisa, mae, pessoa, familia, dia, empregar, irmao, filho, vezar, irma, trabalhar, caro, dinheiro, filhar, causar, entao\n",
      "Termos semelhantes: [('pai', 0.8024599552154541), ('chorasse', 0.7391000986099243), ('marido', 0.7378188371658325)]\n",
      "\n",
      "\n",
      "Tópico 2: ano, pai, faculdade, dinheiro, casar, cursar, dia, trabalhar, empresar, cidade, partir, area, escola, problema, aula, tempo, professorar, mundo, contar, horar\n",
      "Termos semelhantes: [('marçano', 0.7260373830795288), ('expulsada', 0.7243770360946655), ('deteriorarem', 0.7166702747344971)]\n",
      "\n",
      "\n",
      "Tópico 3: vidar, dia, ansiedade, coisa, ano, tempo, problema, tratamento, ajudar, pessoa, vezar, sentir, crise, remedios, terapia, vontade, formar, psiquiatro, mês, efeito\n",
      "Termos semelhantes: [('sexofobia', 0.7690659761428833), ('celebro', 0.7480087280273438), ('presumiria', 0.7478752136230469)]\n",
      "\n",
      "\n",
      "Tópico 4: ano, dia, coisa, amigo, tempo, vidar, pessoa, gente, casar, namorar, problema, amigar, vezar, entao, vez, caro, atar, mês, semana, escola\n",
      "Termos semelhantes: [('viajarei', 0.7444040775299072), ('apressadinho', 0.7262082695960999), ('reveria', 0.7243861556053162)]\n",
      "\n",
      "\n",
      "Tópico 5: pessoa, vidar, coisa, tempo, mundo, suicidio, problema, formar, vezar, dia, sentir, momento, partir, gente, amigo, tipo, medo, verdade, caro, atar\n",
      "Termos semelhantes: [('pessoa', 0.7695448398590088), ('apressadinho', 0.7486222386360168), ('reajo', 0.7474789619445801)]\n",
      "\n",
      "\n"
     ]
    }
   ],
   "source": [
    "for idx, topic_arr in enumerate(lda1[\"topics\"]):\n",
    "    print(f'Tópico {idx+1}: {\", \".join(topic_arr)}\\nTermos semelhantes: {lda1[\"most_similar_words\"][idx][:3]}\\n\\n')"
   ]
  },
  {
   "cell_type": "code",
   "execution_count": 31,
   "metadata": {},
   "outputs": [
    {
     "name": "stdout",
     "output_type": "stream",
     "text": [
      "Tópico 1 - \"pai\" - Categorias: ['swear', 'social', 'family']\n",
      "\n",
      "Tópico 2 - \"marçano\" - Categorias: ['space']\n",
      "\n",
      "Tópico 3 - \"sexofobia\" - Categorias: ['bio', 'sexual']\n",
      "\n",
      "Tópico 4 - \"viajarei\" - Categorias: ['relativ', 'motion']\n",
      "\n",
      "Tópico 5 - \"pessoa\" - Categorias: ['social', 'humans', 'time']\n",
      "\n"
     ]
    }
   ],
   "source": [
    "for idx, word_similarity_pair in enumerate(lda1[\"most_similar_words\"]):\n",
    "    word = word_similarity_pair[0][0]\n",
    "    print(f'Tópico {idx+1} - \"{word}\" - Categorias: {get_categories_for_word(word, LIWC_DICTIONARY)}\\n')"
   ]
  },
  {
   "cell_type": "markdown",
   "metadata": {},
   "source": [
    "### Categorias LIWC dos termos presentes nos tópicos extraídos"
   ]
  },
  {
   "cell_type": "markdown",
   "metadata": {},
   "source": [
    "#### LDA"
   ]
  },
  {
   "cell_type": "code",
   "execution_count": 32,
   "metadata": {},
   "outputs": [
    {
     "name": "stdout",
     "output_type": "stream",
     "text": [
      "Categorias encontradas: 36\n"
     ]
    }
   ],
   "source": [
    "counts = get_liwc_categories_for_topics(lda1, LIWC_DICTIONARY, normalize=True)\n",
    "print(f'Categorias encontradas: {len(counts)}')"
   ]
  },
  {
   "cell_type": "code",
   "execution_count": 33,
   "metadata": {},
   "outputs": [
    {
     "data": {
      "image/png": "[encoded data removed]",
      "text/plain": [
       "<Figure size 432x288 with 1 Axes>"
      ]
     },
     "metadata": {
      "needs_background": "light"
     },
     "output_type": "display_data"
    }
   ],
   "source": [
    "plot_lexical_categories_histogram(counts, topn=5)"
   ]
  },
  {
   "cell_type": "markdown",
   "metadata": {},
   "source": [
    "relativ = relatividade, exemplos: area, bend, exit, stop <br>\n",
    "social = processos sociais, exemplos: mate, talk, they, child<br>\n",
    "time = tempo, exemplos: end, until, season <br>\n",
    "affect = processos afetivos, exemplos: happy, cried, abandon <br>\n",
    "humans = humanos, exemplo: adulto, baby, boy <br>\n",
    "swear = xingamentos/termos chulos, exemplos: damn, piss, fuck <br>\n",
    "funct = palavras funcionais (pronomes pessoais e impessoais), exemplos: i, them, itself, me, we, our <br>\n",
    "cogmech = processos cognitivos, exemplo: cause, know, ought <br>\n",
    "percept = processos de perpcepção, exemplo: observing, heard, feeling <br>\n",
    "ingest = ingestão, exemplo: dish, eat, pizza <br>"
   ]
  },
  {
   "cell_type": "code",
   "execution_count": 34,
   "metadata": {},
   "outputs": [
    {
     "data": {
      "text/plain": [
       "[{'pai': ['swear', 'social', 'family'],\n",
       "  'casar': ['funct', 'social', 'friend'],\n",
       "  'vidar': [],\n",
       "  'ano': ['relativ', 'time'],\n",
       "  'coisa': ['funct', 'pronoun', 'ipron', 'swear'],\n",
       "  'mae': [],\n",
       "  'pessoa': ['social', 'humans', 'time'],\n",
       "  'familia': ['swear'],\n",
       "  'dia': ['ingest', 'relativ', 'time'],\n",
       "  'empregar': ['time', 'work'],\n",
       "  'irmao': [],\n",
       "  'filho': ['swear', 'social', 'family', 'humans', 'percept', 'bio'],\n",
       "  'vezar': ['relativ'],\n",
       "  'irma': [],\n",
       "  'trabalhar': ['funct',\n",
       "   'auxverb',\n",
       "   'past',\n",
       "   'verb',\n",
       "   'relativ',\n",
       "   'motion',\n",
       "   'work',\n",
       "   'achieve'],\n",
       "  'caro': ['social',\n",
       "   'humans',\n",
       "   'affect',\n",
       "   'posemo',\n",
       "   'percept',\n",
       "   'relativ',\n",
       "   'money'],\n",
       "  'dinheiro': ['money'],\n",
       "  'filhar': [],\n",
       "  'causar': ['cogmech', 'insight', 'relativ'],\n",
       "  'entao': []},\n",
       " {'ano': ['relativ', 'time'],\n",
       "  'pai': ['swear', 'social', 'family'],\n",
       "  'faculdade': ['work'],\n",
       "  'dinheiro': ['money'],\n",
       "  'casar': ['funct', 'social', 'friend'],\n",
       "  'cursar': [],\n",
       "  'dia': ['ingest', 'relativ', 'time'],\n",
       "  'trabalhar': ['funct',\n",
       "   'auxverb',\n",
       "   'past',\n",
       "   'verb',\n",
       "   'relativ',\n",
       "   'motion',\n",
       "   'work',\n",
       "   'achieve'],\n",
       "  'empresar': [],\n",
       "  'cidade': ['ingest', 'relativ'],\n",
       "  'partir': ['funct',\n",
       "   'affect',\n",
       "   'negemo',\n",
       "   'anger',\n",
       "   'verb',\n",
       "   'ingest',\n",
       "   'relativ',\n",
       "   'motion'],\n",
       "  'area': ['percept', 'feel'],\n",
       "  'escola': ['motion'],\n",
       "  'problema': ['affect', 'negemo'],\n",
       "  'aula': ['insight', 'relativ', 'time', 'work'],\n",
       "  'tempo': ['relativ'],\n",
       "  'professorar': ['work'],\n",
       "  'mundo': ['relativ'],\n",
       "  'contar': ['past',\n",
       "   'swear',\n",
       "   'social',\n",
       "   'cogmech',\n",
       "   'insight',\n",
       "   'percept',\n",
       "   'hear',\n",
       "   'verb'],\n",
       "  'horar': []},\n",
       " {'vidar': [],\n",
       "  'dia': ['ingest', 'relativ', 'time'],\n",
       "  'ansiedade': ['affect', 'negemo', 'anx'],\n",
       "  'coisa': ['funct', 'pronoun', 'ipron', 'swear'],\n",
       "  'ano': ['relativ', 'time'],\n",
       "  'tempo': ['relativ'],\n",
       "  'problema': ['affect', 'negemo'],\n",
       "  'tratamento': ['cogmech', 'cause'],\n",
       "  'ajudar': ['swear', 'social', 'humans', 'affect', 'posemo', 'verb'],\n",
       "  'pessoa': ['social', 'humans', 'time'],\n",
       "  'vezar': ['relativ'],\n",
       "  'sentir': ['social',\n",
       "   'cogmech',\n",
       "   'insight',\n",
       "   'discrep',\n",
       "   'percept',\n",
       "   'feel',\n",
       "   'verb',\n",
       "   'relativ',\n",
       "   'motion'],\n",
       "  'crise': [],\n",
       "  'remedios': [],\n",
       "  'terapia': ['bio', 'health'],\n",
       "  'vontade': ['cogmech', 'discrep', 'bio', 'body'],\n",
       "  'formar': ['relativ'],\n",
       "  'psiquiatro': [],\n",
       "  'mês': ['relativ', 'time'],\n",
       "  'efeito': ['cogmech', 'insight', 'ingest', 'relativ']},\n",
       " {'ano': ['relativ', 'time'],\n",
       "  'dia': ['ingest', 'relativ', 'time'],\n",
       "  'coisa': ['funct', 'pronoun', 'ipron', 'swear'],\n",
       "  'amigo': ['affect', 'posemo'],\n",
       "  'tempo': ['relativ'],\n",
       "  'vidar': [],\n",
       "  'pessoa': ['social', 'humans', 'time'],\n",
       "  'gente': ['swear', 'social', 'humans'],\n",
       "  'casar': ['funct', 'social', 'friend'],\n",
       "  'namorar': ['relativ', 'space'],\n",
       "  'problema': ['affect', 'negemo'],\n",
       "  'amigar': ['affect', 'posemo'],\n",
       "  'vezar': ['relativ'],\n",
       "  'entao': [],\n",
       "  'vez': ['relativ'],\n",
       "  'caro': ['social',\n",
       "   'humans',\n",
       "   'affect',\n",
       "   'posemo',\n",
       "   'percept',\n",
       "   'relativ',\n",
       "   'money'],\n",
       "  'atar': ['cogmech', 'inhib'],\n",
       "  'mês': ['relativ', 'time'],\n",
       "  'semana': ['relativ'],\n",
       "  'escola': ['motion']},\n",
       " {'pessoa': ['social', 'humans', 'time'],\n",
       "  'vidar': [],\n",
       "  'coisa': ['funct', 'pronoun', 'ipron', 'swear'],\n",
       "  'tempo': ['relativ'],\n",
       "  'mundo': ['relativ'],\n",
       "  'suicidio': [],\n",
       "  'problema': ['affect', 'negemo'],\n",
       "  'formar': ['relativ'],\n",
       "  'vezar': ['relativ'],\n",
       "  'dia': ['ingest', 'relativ', 'time'],\n",
       "  'sentir': ['social',\n",
       "   'cogmech',\n",
       "   'insight',\n",
       "   'discrep',\n",
       "   'percept',\n",
       "   'feel',\n",
       "   'verb',\n",
       "   'relativ',\n",
       "   'motion'],\n",
       "  'momento': ['relativ'],\n",
       "  'partir': ['funct',\n",
       "   'affect',\n",
       "   'negemo',\n",
       "   'anger',\n",
       "   'verb',\n",
       "   'ingest',\n",
       "   'relativ',\n",
       "   'motion'],\n",
       "  'gente': ['swear', 'social', 'humans'],\n",
       "  'amigo': ['affect', 'posemo'],\n",
       "  'tipo': ['tentat'],\n",
       "  'medo': ['humans', 'affect', 'negemo', 'anx', 'percept', 'feel'],\n",
       "  'verdade': ['affect', 'posemo'],\n",
       "  'caro': ['social',\n",
       "   'humans',\n",
       "   'affect',\n",
       "   'posemo',\n",
       "   'percept',\n",
       "   'relativ',\n",
       "   'money'],\n",
       "  'atar': ['cogmech', 'inhib']}]"
      ]
     },
     "execution_count": 34,
     "metadata": {},
     "output_type": "execute_result"
    }
   ],
   "source": [
    "get_raw_liwc_categories_for_topics(lda1, LIWC_DICTIONARY)"
   ]
  },
  {
   "cell_type": "code",
   "execution_count": null,
   "metadata": {},
   "outputs": [],
   "source": []
  }
 ],
 "metadata": {
  "kernelspec": {
   "display_name": "Python 3",
   "language": "python",
   "name": "python3"
  },
  "language_info": {
   "codemirror_mode": {
    "name": "ipython",
    "version": 3
   },
   "file_extension": ".py",
   "mimetype": "text/x-python",
   "name": "python",
   "nbconvert_exporter": "python",
   "pygments_lexer": "ipython3",
   "version": "3.7.6"
  }
 },
 "nbformat": 4,
 "nbformat_minor": 4
}
